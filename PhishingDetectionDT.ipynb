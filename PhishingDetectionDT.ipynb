{
 "cells": [
  {
   "cell_type": "code",
   "execution_count": 4,
   "id": "652d291c-0487-475c-839c-2d0a65497d11",
   "metadata": {},
   "outputs": [],
   "source": [
    "## Phishing Detection with Decision Trees"
   ]
  },
  {
   "cell_type": "code",
   "execution_count": 10,
   "id": "c21eec77-abcc-465d-bebe-2f35560d81ab",
   "metadata": {},
   "outputs": [],
   "source": [
    "import numpy as np\n",
    "from sklearn.model_selection import train_test_split\n",
    "from sklearn.preprocessing import StandardScaler\n",
    "from sklearn.linear_model import LogisticRegression\n",
    "from sklearn.metrics import accuracy_score\n",
    "from sklearn import tree"
   ]
  },
  {
   "cell_type": "code",
   "execution_count": 11,
   "id": "d4fa9f06-9a3b-4089-b6b3-0d6072bb7356",
   "metadata": {},
   "outputs": [],
   "source": [
    "## Data is from UCI Machine Learning Repository\n",
    "## https://archive.ics.uci.edu/dataset/327/phishing+websites"
   ]
  },
  {
   "cell_type": "code",
   "execution_count": 12,
   "id": "d284eeaa-b281-464f-b08f-e734cc197584",
   "metadata": {},
   "outputs": [],
   "source": [
    "# Load the data\n",
    "training_data = np.genfromtxt('dataset.csv', delimiter=',', dtype=np.int32)\n",
    "inputs = training_data[:, :-1]\n",
    "outputs = training_data[:, -1]"
   ]
  },
  {
   "cell_type": "code",
   "execution_count": 13,
   "id": "8fe86012-caf8-49ca-8a5b-1d49c34a7cc1",
   "metadata": {},
   "outputs": [],
   "source": [
    "# Split the data into training and testing sets\n",
    "training_inputs = inputs[:2000]\n",
    "training_outputs = outputs[:2000]\n",
    "testing_inputs = inputs[2000:]\n",
    "testing_outputs = outputs[2000:]"
   ]
  },
  {
   "cell_type": "code",
   "execution_count": 14,
   "id": "b9e91ee1-86a3-49a1-98ce-192ffbf08356",
   "metadata": {},
   "outputs": [],
   "source": [
    "# Scale the data\n",
    "scaler = StandardScaler()\n",
    "training_inputs = scaler.fit_transform(training_inputs)\n",
    "testing_inputs = scaler.transform(testing_inputs)"
   ]
  },
  {
   "cell_type": "code",
   "execution_count": 18,
   "id": "750e37c2-cbc2-4ed8-b291-671862370f09",
   "metadata": {},
   "outputs": [
    {
     "name": "stdout",
     "output_type": "stream",
     "text": [
      "The accuracy of you decision tree on testing data is94.31072210065645\n"
     ]
    }
   ],
   "source": [
    "# Apply Decision Tree with increased max_iter\n",
    "classifier = tree.DecisionTreeClassifier()\n",
    "classifier.fit(training_inputs, training_outputs)\n",
    "predictions = classifier.predict(testing_inputs)\n",
    "accuracy = 100.0 * accuracy_score(testing_outputs, predictions)\n",
    "print(\"The accuracy of you decision tree on testing data is\" + str(accuracy))\n"
   ]
  },
  {
   "cell_type": "code",
   "execution_count": 19,
   "id": "ab71a3b2-ba4d-406f-9702-b9b172b0ce83",
   "metadata": {},
   "outputs": [
    {
     "name": "stdout",
     "output_type": "stream",
     "text": [
      "The accuracy of your Decision Tree on testing data is: 94.31072210065645\n"
     ]
    }
   ],
   "source": [
    "# Make predictions and evaluate\n",
    "predictions = classifier.predict(testing_inputs)\n",
    "accuracy = 100.0 * accuracy_score(testing_outputs, predictions)\n",
    "print(\"The accuracy of your Decision Tree on testing data is: \" + str(accuracy))"
   ]
  },
  {
   "cell_type": "code",
   "execution_count": 20,
   "id": "2719262f-3a9a-4442-b755-6c48b85f85d3",
   "metadata": {},
   "outputs": [],
   "source": [
    "## The model is at %94 "
   ]
  },
  {
   "cell_type": "code",
   "execution_count": null,
   "id": "6ceb2559-cc17-451b-8010-d148c5a43113",
   "metadata": {},
   "outputs": [],
   "source": []
  }
 ],
 "metadata": {
  "kernelspec": {
   "display_name": "Python 3 (ipykernel)",
   "language": "python",
   "name": "python3"
  },
  "language_info": {
   "codemirror_mode": {
    "name": "ipython",
    "version": 3
   },
   "file_extension": ".py",
   "mimetype": "text/x-python",
   "name": "python",
   "nbconvert_exporter": "python",
   "pygments_lexer": "ipython3",
   "version": "3.12.4"
  }
 },
 "nbformat": 4,
 "nbformat_minor": 5
}

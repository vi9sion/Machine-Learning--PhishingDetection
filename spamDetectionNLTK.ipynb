{
 "cells": [
  {
   "cell_type": "code",
   "execution_count": 61,
   "id": "b632ab72-924a-4113-94a6-3b4ebbcbd7c2",
   "metadata": {},
   "outputs": [
    {
     "name": "stderr",
     "output_type": "stream",
     "text": [
      "[nltk_data] Downloading package punkt to\n",
      "[nltk_data]     C:\\Users\\19294\\AppData\\Roaming\\nltk_data...\n",
      "[nltk_data]   Package punkt is already up-to-date!\n"
     ]
    }
   ],
   "source": [
    "import os\n",
    "import nltk\n",
    "import random\n",
    "from nltk.data import find\n",
    "from nltk.corpus import stopwords\n",
    "from nltk.classify import NaiveBayesClassifier\n",
    "from nltk.classify.util import accuracy\n",
    "from nltk.tokenize import word_tokenize\n",
    "from nltk.probability import FreqDist\n",
    "\n",
    "def check_and_download(resource, category):\n",
    "    try:\n",
    "        find(f'{category}/{resource}.zip')\n",
    "    except LookupError:\n",
    "        nltk.download(resource)\n",
    "\n",
    "# Check and download only if necessary\n",
    "check_and_download('punkt', 'tokenizers')\n",
    "check_and_download('stopwords', 'corpora')\n",
    "\n",
    "# Now you can proceed with the rest of your code\n",
    "\n"
   ]
  },
  {
   "cell_type": "code",
   "execution_count": 62,
   "id": "daa4615a-2a25-421e-8e89-ef2a2403ce7a",
   "metadata": {},
   "outputs": [],
   "source": [
    "def load_emails(folder_path):\n",
    "    emails = []\n",
    "    for root, dirs, files in os.walk(folder_path):\n",
    "        for file in files:\n",
    "            if file.endswith(\".txt\"):\n",
    "                label = 'spam' if 'spam' in root else 'ham'\n",
    "                with open(os.path.join(root, file), 'r', encoding='utf-8', errors='ignore') as email_file:\n",
    "                    emails.append((email_file.read(), label))\n",
    "    return emails\n",
    "\n",
    "# Load emails from the directory\n",
    "email_data = load_emails(r'C:\\Users\\19294\\Machine Learning PT')\n",
    "random.shuffle(email_data)  # Shuffle the data\n",
    "\n",
    "\n"
   ]
  },
  {
   "cell_type": "code",
   "execution_count": null,
   "id": "05684f79-27ad-4357-9e50-ab8dbe3febde",
   "metadata": {},
   "outputs": [],
   "source": [
    "def extract_features(text):\n",
    "    tokens = word_tokenize(text)\n",
    "    tokens = [word.lower() for word in tokens if word.isalpha()]  # Lowercase and remove non-alphabetic words\n",
    "    tokens = [word for word in tokens if word not in stopwords.words('english')]  # Remove stopwords\n",
    "    freq_dist = FreqDist(tokens)\n",
    "    return {word: freq_dist[word] for word in freq_dist}\n",
    "\n",
    "# Create feature sets for all emails\n",
    "featuresets = [(extract_features(email), label) for (email, label) in email_data]\n"
   ]
  },
  {
   "cell_type": "code",
   "execution_count": null,
   "id": "51afe873-8130-4b38-953b-9a14ffc3512c",
   "metadata": {},
   "outputs": [],
   "source": [
    "train_size = int(len(featuresets) * 0.8)\n",
    "train_set, test_set = featuresets[:train_size], featuresets[train_size:]\n"
   ]
  },
  {
   "cell_type": "code",
   "execution_count": null,
   "id": "a2124299-4303-4bd8-90c1-41d5c0d9c4b8",
   "metadata": {},
   "outputs": [],
   "source": [
    "empty_features = [fs for fs, label in train_set if not fs]\n",
    "print(f\"Number of empty feature sets in training data: {len(empty_features)}\")\n"
   ]
  },
  {
   "cell_type": "code",
   "execution_count": null,
   "id": "9e892de3-9161-4820-b576-2c67b0f7fd69",
   "metadata": {},
   "outputs": [],
   "source": [
    "train_set = [(fs, label) for fs, label in train_set if fs]\n",
    "test_set = [(fs, label) for fs, label in test_set if fs]\n"
   ]
  },
  {
   "cell_type": "code",
   "execution_count": null,
   "id": "997d7863-e632-4b65-858b-1c449ea6afda",
   "metadata": {},
   "outputs": [],
   "source": [
    "classifier = NaiveBayesClassifier.train(train_set)\n"
   ]
  },
  {
   "cell_type": "code",
   "execution_count": 38,
   "id": "7b8bab57-49b2-462a-9d21-2c0292aee748",
   "metadata": {},
   "outputs": [
    {
     "name": "stdout",
     "output_type": "stream",
     "text": [
      "Accuracy: 94.11%\n",
      "Most Informative Features\n",
      "               forwarded = 1                 ham : spam   =    146.8 : 1.0\n",
      "                    pain = 1                spam : ham    =     94.9 : 1.0\n",
      "            prescription = 1                spam : ham    =     90.0 : 1.0\n",
      "                    spam = 1                spam : ham    =     73.4 : 1.0\n",
      "                     sex = 1                spam : ham    =     65.2 : 1.0\n",
      "                      ex = 1                spam : ham    =     63.6 : 1.0\n",
      "                featured = 1                spam : ham    =     61.9 : 1.0\n",
      "                creative = 1                spam : ham    =     60.3 : 1.0\n",
      "                   super = 1                spam : ham    =     57.0 : 1.0\n",
      "                       u = 3                spam : ham    =     55.3 : 1.0\n",
      "            solicitation = 1                spam : ham    =     53.7 : 1.0\n",
      "              trademarks = 1                spam : ham    =     53.7 : 1.0\n",
      "              compliance = 1                spam : ham    =     53.0 : 1.0\n",
      "                    sony = 1                spam : ham    =     52.0 : 1.0\n",
      "                  weight = 1                spam : ham    =     52.0 : 1.0\n"
     ]
    }
   ],
   "source": [
    "print(f'Accuracy: {accuracy(classifier, test_set) * 100:.2f}%')\n",
    "\n",
    "# Show the most informative features\n",
    "classifier.show_most_informative_features(15)\n"
   ]
  },
  {
   "cell_type": "code",
   "execution_count": null,
   "id": "929f9273-5718-4ae9-80f7-735db0e60a55",
   "metadata": {},
   "outputs": [],
   "source": [
    "def classify_email(email_text):\n",
    "    features = extract_features(email_text)\n",
    "    return classifier.classify(features)\n",
    "\n",
    "# Example usage\n",
    "new_email = \"You have won a free lottery! Claim your prize now.\"\n",
    "print(f'The email is classified as: {classify_email(new_email)}')\n"
   ]
  },
  {
   "cell_type": "code",
   "execution_count": null,
   "id": "77e2d873-6843-49c7-bbc3-d31a539c9278",
   "metadata": {},
   "outputs": [],
   "source": []
  }
 ],
 "metadata": {
  "kernelspec": {
   "display_name": "Python 3 (ipykernel)",
   "language": "python",
   "name": "python3"
  },
  "language_info": {
   "codemirror_mode": {
    "name": "ipython",
    "version": 3
   },
   "file_extension": ".py",
   "mimetype": "text/x-python",
   "name": "python",
   "nbconvert_exporter": "python",
   "pygments_lexer": "ipython3",
   "version": "3.12.4"
  }
 },
 "nbformat": 4,
 "nbformat_minor": 5
}

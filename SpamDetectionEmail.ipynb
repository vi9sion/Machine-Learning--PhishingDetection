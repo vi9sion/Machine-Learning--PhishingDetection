{
 "cells": [
  {
   "cell_type": "code",
   "execution_count": 13,
   "id": "efc72829-71a6-483a-966a-40765183f5d7",
   "metadata": {},
   "outputs": [],
   "source": [
    "import os\n",
    "import nltk\n",
    "import random\n",
    "from nltk.corpus import stopwords\n",
    "from nltk.classify import NaiveBayesClassifier\n",
    "from nltk.classify.util import accuracy\n",
    "from nltk.tokenize import word_tokenize\n",
    "from nltk.probability import FreqDist\n",
    "\n",
    "# Custom function to download only if necessary and suppress output\n",
    "def silent_nltk_download(package_name):\n",
    "    try:\n",
    "        nltk.data.find(f'tokenizers/{package_name}')\n",
    "    except LookupError:\n",
    "        nltk.download(package_name, quiet=True)\n",
    "\n",
    "# Ensure necessary NLTK packages are available\n",
    "silent_nltk_download('punkt')\n",
    "silent_nltk_download('stopwords')"
   ]
  },
  {
   "cell_type": "code",
   "execution_count": 14,
   "id": "a0eaebc1-a7f8-46dc-85ca-ab665e4f4b46",
   "metadata": {},
   "outputs": [],
   "source": [
    "def load_emails(folder_path):\n",
    "    emails = []\n",
    "    for root, dirs, files in os.walk(folder_path):\n",
    "        for file in files:\n",
    "            if file.endswith(\".txt\"):\n",
    "                label = 'spam' if 'spam' in root else 'ham'\n",
    "                with open(os.path.join(root, file), 'r', encoding='utf-8', errors='ignore') as email_file:\n",
    "                    emails.append((email_file.read(), label))\n",
    "    return emails"
   ]
  },
  {
   "cell_type": "code",
   "execution_count": 15,
   "id": "9f13978d-27d6-4e4a-b01f-8dc805df3b38",
   "metadata": {},
   "outputs": [],
   "source": [
    "def extract_features(text):\n",
    "    tokens = word_tokenize(text)\n",
    "    tokens = [word.lower() for word in tokens if word.isalpha()]\n",
    "    tokens = [word for word in tokens if word not in stopwords.words('english')]\n",
    "    freq_dist = FreqDist(tokens)\n",
    "    return {word: freq_dist[word] for word in freq_dist}"
   ]
  },
  {
   "cell_type": "code",
   "execution_count": 16,
   "id": "dfb7d774-39a4-4ac7-ba50-09da2194274d",
   "metadata": {},
   "outputs": [
    {
     "name": "stdout",
     "output_type": "stream",
     "text": [
      "Loading and shuffling email data...\n"
     ]
    }
   ],
   "source": [
    "# Load and shuffle the data\n",
    "print(\"Loading and shuffling email data...\")\n",
    "email_data = load_emails(r'C:\\Phishing Detection\\enron1\\spam')\n",
    "random.shuffle(email_data)"
   ]
  },
  {
   "cell_type": "code",
   "execution_count": null,
   "id": "d6c31d81-669c-407d-bcd2-0687f95026d3",
   "metadata": {},
   "outputs": [],
   "source": [
    "# Create feature sets\n",
    "featuresets = [(extract_features(email), label) for (email, label) in email_data]\n",
    "\n",
    "# Split the data into training and testing sets\n",
    "train_size = int(len(featuresets) * 0.8)\n",
    "train_set, test_set = featuresets[:train_size], featuresets[train_size:]\n",
    "\n",
    "# Train the Naive Bayes Classifier\n",
    "classifier = NaiveBayesClassifier.train(train_set)\n",
    "\n",
    "# Evaluate the model\n",
    "print(f'Accuracy: {accuracy(classifier, test_set) * 100:.2f}%')\n",
    "classifier.show_most_informative_features(15)"
   ]
  },
  {
   "cell_type": "code",
   "execution_count": null,
   "id": "e4aa563e-7ad0-4133-81fa-8997a10d7646",
   "metadata": {},
   "outputs": [],
   "source": [
    "# Example of classifying a new email\n",
    "def classify_email(email_text):\n",
    "    features = extract_features(email_text)\n",
    "    return classifier.classify(features)"
   ]
  },
  {
   "cell_type": "code",
   "execution_count": null,
   "id": "b54e9f1c-a229-4a7b-b262-7facb6bec3aa",
   "metadata": {},
   "outputs": [],
   "source": [
    "\n",
    "new_email = \"You have won a free lottery! Claim your prize now.\"\n",
    "print(f'The email is classified as: {classify_email(new_email)}')"
   ]
  },
  {
   "cell_type": "code",
   "execution_count": null,
   "id": "eafc1000-2388-48ca-8c3c-ed690be57dbc",
   "metadata": {},
   "outputs": [],
   "source": []
  }
 ],
 "metadata": {
  "kernelspec": {
   "display_name": "Python 3 (ipykernel)",
   "language": "python",
   "name": "python3"
  },
  "language_info": {
   "codemirror_mode": {
    "name": "ipython",
    "version": 3
   },
   "file_extension": ".py",
   "mimetype": "text/x-python",
   "name": "python",
   "nbconvert_exporter": "python",
   "pygments_lexer": "ipython3",
   "version": "3.12.4"
  }
 },
 "nbformat": 4,
 "nbformat_minor": 5
}
